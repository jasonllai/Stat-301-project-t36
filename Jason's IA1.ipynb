{
 "cells": [
  {
   "cell_type": "markdown",
   "id": "2052f3d9-8cea-47ce-9573-bcd8f31b2209",
   "metadata": {},
   "source": [
    "# STAT 301 Indivisual Assignment 1\n",
    "\n",
    "\n",
    "### <font color=red> Online News Popularity\n",
    "    \n",
    "### -- Bokai Lai"
   ]
  },
  {
   "cell_type": "markdown",
   "id": "97a5c028-747d-4447-af73-ffa66475ba3a",
   "metadata": {},
   "source": [
    "# 1. Data"
   ]
  },
  {
   "cell_type": "markdown",
   "id": "8e5b58df-27f0-4e5c-9cd4-d8df92987659",
   "metadata": {},
   "source": [
    "Our dataset is called **\"Online News Popularity\"** and is selected from UCI Machine Learning Repository. This dataset summarizes a heterogeneous set of features about articles published by Mashable in a period of two years. The articles were published by Mashable (www.mashable.com) and their content as the rights to reproduce it belongs to them. Hence, this dataset does not share the original content but some statistics associated with it. The original content be publicly accessed and retrieved using the provided urls. The goal of creating this dataset is to predict the number of shares in social networks (popularity). This dataset has **39797** instances(rows) and **61** variables(columns) with no missing value. Below is the description for 61 varaibles:\n",
    "* **url**:     URL of the article (non-predictive)\n",
    "* **timedelta**:     Days between the article publication and the dataset acquisition (non-predictive)\n",
    "* **n_tokens_title**:     Number of words in the title \n",
    "* **n_tokens_content**:     Number of words in the content\n",
    "* **n_unique_tokens**:     Rate of unique words in the content (rate 1 - 10)\n",
    "* **n_non_stop_words**:      Rate of non-stop words in the content (rate 1 - 10)\n",
    "* **n_non_stop_unique_tokens**:     Rate of unique non-stop words in the content (rate 1 - 10)\n",
    "* **num_hrefs**:     Number of links\n",
    "* **num_self_hrefs**:     Number of links to other articles published by Mashable\n",
    "* **num_imgs**:     Number of images\n",
    "* **num_videos**:     Number of videos\n",
    "* **average_token_length**:      Average length of the words in the content\n",
    "* **num_keywords**:     Number of keywords in the metadata\n",
    "* **data_channel_is_lifestyle**:     Is data channel 'Lifestyle'? (Yes is 1, No is 0)\n",
    "* **data_channel_is_entertainment**:     Is data channel 'Entertainment'? (Yes is 1, No is 0)\n",
    "* **data_channel_is_bus**:     Is data channel 'Business'? (Yes is 1, No is 0)\n",
    "* **data_channel_is_socmed**:     Is data channel 'Social Media'? (Yes is 1, No is 0)\n",
    "* **data_channel_is_tech**:     Is data channel 'Tech'? (Yes is 1, No is 0)\n",
    "* **data_channel_is_world**:     Is data channel 'World'? (Yes is 1, No is 0)\n",
    "* **kw_min_min**:     Number of worst keywords in the artile with min shares\n",
    "* **kw_max_min**:     Number of worst keywords in the artile with max shares\n",
    "* **kw_avg_min**:     Number of worst keywords in the artile with avg shares\n",
    "* **kw_min_max**:     Best keyword (min. shares)\n",
    "* **kw_max_max**:     Best keyword (max. shares)\n",
    "* **kw_avg_max**:     Best keyword (avg. shares)\n",
    "* **kw_min_avg**:     Avg. keyword (min. shares)\n",
    "* **kw_max_avg**:     Avg. keyword (max. shares)\n",
    "* **kw_avg_avg**:     Avg. keyword (avg. shares)\n",
    "* **self_reference_min_shares**:     Min. shares of referenced articles in Mashable\n",
    "* **self_reference_max_shares**:     Max. shares of referenced articles in Mashable\n",
    "* **self_reference_avg_sharess**:     Avg. shares of referenced articles in Mashable\n",
    "* **weekday_is_monday**:     Was the article published on a Monday? (Yes is 1, No is 0)\n",
    "* **weekday_is_tuesday**:     Was the article published on a Tuesday? (Yes is 1, No is 0)\n",
    "* **weekday_is_wednesday**:     Was the article published on a Wednesday? (Yes is 1, No is 0)\n",
    "* **weekday_is_thursday**:     Was the article published on a Thursday? (Yes is 1, No is 0)\n",
    "* **weekday_is_friday**:     Was the article published on a Friday? (Yes is 1, No is 0)\n",
    "* **weekday_is_saturday**:     Was the article published on a Saturday? (Yes is 1, No is 0)\n",
    "* **weekday_is_sunday**:     Was the article published on a Sunday? (Yes is 1, No is 0)\n",
    "* **is_weekend**:     Was the article published on the weekend? (Yes is 1, No is 0)\n",
    "* **LDA_00**:     Closeness to LDA topic 0\n",
    "* **LDA_01**:     Closeness to LDA topic 1\n",
    "* **LDA_02**:     Closeness to LDA topic 2\n",
    "* **LDA_03**:     Closeness to LDA topic 3\n",
    "* **LDA_04**:     Closeness to LDA topic 4\n",
    "* **global_subjectivity**:     Text subjectivity (rate from 0 to 1)\n",
    "* **global_sentiment_polarity**:     Text sentiment polarity (rate from -1 to 1)\n",
    "* **global_rate_positive_words**:     Rate of positive words in the content (rate from 0 to 1)\n",
    "* **global_rate_negative_words**:     Rate of negative words in the content (rate from 0 to 1)\n",
    "* **rate_positive_words**:     Rate of positive words among non-neutral tokens (rate from 0 to 1)\n",
    "* **rate_negative_words**:     Rate of negative words among non-neutral tokens (rate from 0 to 1)\n",
    "* **avg_positive_polarity**:     Avg. polarity of positive words (from 0 to 1)\n",
    "* **min_positive_polarity**:     Min. polarity of positive words (from 0 to 1)\n",
    "* **max_positive_polarity**:     Max. polarity of positive words (from 0 to 1)\n",
    "* **avg_negative_polarity**:     Avg. polarity of negative  words (from 0 to 1)\n",
    "* **min_negative_polarity**:     Min. polarity of negative  words (from 0 to 1)\n",
    "* **max_negative_polarity**:     Max. polarity of negative  words (from 0 to 1)\n",
    "* **title_subjectivity**:     Title subjectivity (from 0 to 1)\n",
    "* **title_sentiment_polarity**:     Title polarity (from -1 to 1)\n",
    "* **abs_title_subjectivity**:     Absolute subjectivity level (from 0 to 1)\n",
    "* **abs_title_sentiment_polarity**:     Absolute polarity level(from 0 to 1)\n",
    "* **shares**:     Number of shares (target)"
   ]
  },
  {
   "cell_type": "code",
   "execution_count": 13,
   "id": "ef981f6b-dbab-4f75-9a4f-36b08dcd8aba",
   "metadata": {
    "tags": []
   },
   "outputs": [
    {
     "data": {
      "text/html": [
       "<table class=\"dataframe\">\n",
       "<caption>A data.frame: 6 × 61</caption>\n",
       "<thead>\n",
       "\t<tr><th></th><th scope=col>url</th><th scope=col>timedelta</th><th scope=col>n_tokens_title</th><th scope=col>n_tokens_content</th><th scope=col>n_unique_tokens</th><th scope=col>n_non_stop_words</th><th scope=col>n_non_stop_unique_tokens</th><th scope=col>num_hrefs</th><th scope=col>num_self_hrefs</th><th scope=col>num_imgs</th><th scope=col>⋯</th><th scope=col>min_positive_polarity</th><th scope=col>max_positive_polarity</th><th scope=col>avg_negative_polarity</th><th scope=col>min_negative_polarity</th><th scope=col>max_negative_polarity</th><th scope=col>title_subjectivity</th><th scope=col>title_sentiment_polarity</th><th scope=col>abs_title_subjectivity</th><th scope=col>abs_title_sentiment_polarity</th><th scope=col>shares</th></tr>\n",
       "\t<tr><th></th><th scope=col>&lt;chr&gt;</th><th scope=col>&lt;dbl&gt;</th><th scope=col>&lt;dbl&gt;</th><th scope=col>&lt;dbl&gt;</th><th scope=col>&lt;dbl&gt;</th><th scope=col>&lt;dbl&gt;</th><th scope=col>&lt;dbl&gt;</th><th scope=col>&lt;dbl&gt;</th><th scope=col>&lt;dbl&gt;</th><th scope=col>&lt;dbl&gt;</th><th scope=col>⋯</th><th scope=col>&lt;dbl&gt;</th><th scope=col>&lt;dbl&gt;</th><th scope=col>&lt;dbl&gt;</th><th scope=col>&lt;dbl&gt;</th><th scope=col>&lt;dbl&gt;</th><th scope=col>&lt;dbl&gt;</th><th scope=col>&lt;dbl&gt;</th><th scope=col>&lt;dbl&gt;</th><th scope=col>&lt;dbl&gt;</th><th scope=col>&lt;int&gt;</th></tr>\n",
       "</thead>\n",
       "<tbody>\n",
       "\t<tr><th scope=row>1</th><td>http://mashable.com/2013/01/07/amazon-instant-video-browser/  </td><td>731</td><td>12</td><td> 219</td><td>0.6635945</td><td>1</td><td>0.8153846</td><td> 4</td><td> 2</td><td> 1</td><td>⋯</td><td>0.10000000</td><td>0.7</td><td>-0.3500000</td><td>-0.600</td><td>-0.2000000</td><td>0.5000000</td><td>-0.1875000</td><td>0.00000000</td><td>0.1875000</td><td> 593</td></tr>\n",
       "\t<tr><th scope=row>2</th><td>http://mashable.com/2013/01/07/ap-samsung-sponsored-tweets/   </td><td>731</td><td> 9</td><td> 255</td><td>0.6047431</td><td>1</td><td>0.7919463</td><td> 3</td><td> 1</td><td> 1</td><td>⋯</td><td>0.03333333</td><td>0.7</td><td>-0.1187500</td><td>-0.125</td><td>-0.1000000</td><td>0.0000000</td><td> 0.0000000</td><td>0.50000000</td><td>0.0000000</td><td> 711</td></tr>\n",
       "\t<tr><th scope=row>3</th><td>http://mashable.com/2013/01/07/apple-40-billion-app-downloads/</td><td>731</td><td> 9</td><td> 211</td><td>0.5751295</td><td>1</td><td>0.6638655</td><td> 3</td><td> 1</td><td> 1</td><td>⋯</td><td>0.10000000</td><td>1.0</td><td>-0.4666667</td><td>-0.800</td><td>-0.1333333</td><td>0.0000000</td><td> 0.0000000</td><td>0.50000000</td><td>0.0000000</td><td>1500</td></tr>\n",
       "\t<tr><th scope=row>4</th><td>http://mashable.com/2013/01/07/astronaut-notre-dame-bcs/      </td><td>731</td><td> 9</td><td> 531</td><td>0.5037879</td><td>1</td><td>0.6656347</td><td> 9</td><td> 0</td><td> 1</td><td>⋯</td><td>0.13636364</td><td>0.8</td><td>-0.3696970</td><td>-0.600</td><td>-0.1666667</td><td>0.0000000</td><td> 0.0000000</td><td>0.50000000</td><td>0.0000000</td><td>1200</td></tr>\n",
       "\t<tr><th scope=row>5</th><td>http://mashable.com/2013/01/07/att-u-verse-apps/              </td><td>731</td><td>13</td><td>1072</td><td>0.4156456</td><td>1</td><td>0.5408895</td><td>19</td><td>19</td><td>20</td><td>⋯</td><td>0.03333333</td><td>1.0</td><td>-0.2201923</td><td>-0.500</td><td>-0.0500000</td><td>0.4545455</td><td> 0.1363636</td><td>0.04545455</td><td>0.1363636</td><td> 505</td></tr>\n",
       "\t<tr><th scope=row>6</th><td>http://mashable.com/2013/01/07/beewi-smart-toys/              </td><td>731</td><td>10</td><td> 370</td><td>0.5598886</td><td>1</td><td>0.6981982</td><td> 2</td><td> 2</td><td> 0</td><td>⋯</td><td>0.13636364</td><td>0.6</td><td>-0.1950000</td><td>-0.400</td><td>-0.1000000</td><td>0.6428571</td><td> 0.2142857</td><td>0.14285714</td><td>0.2142857</td><td> 855</td></tr>\n",
       "</tbody>\n",
       "</table>\n"
      ],
      "text/latex": [
       "A data.frame: 6 × 61\n",
       "\\begin{tabular}{r|lllllllllllllllllllll}\n",
       "  & url & timedelta & n\\_tokens\\_title & n\\_tokens\\_content & n\\_unique\\_tokens & n\\_non\\_stop\\_words & n\\_non\\_stop\\_unique\\_tokens & num\\_hrefs & num\\_self\\_hrefs & num\\_imgs & ⋯ & min\\_positive\\_polarity & max\\_positive\\_polarity & avg\\_negative\\_polarity & min\\_negative\\_polarity & max\\_negative\\_polarity & title\\_subjectivity & title\\_sentiment\\_polarity & abs\\_title\\_subjectivity & abs\\_title\\_sentiment\\_polarity & shares\\\\\n",
       "  & <chr> & <dbl> & <dbl> & <dbl> & <dbl> & <dbl> & <dbl> & <dbl> & <dbl> & <dbl> & ⋯ & <dbl> & <dbl> & <dbl> & <dbl> & <dbl> & <dbl> & <dbl> & <dbl> & <dbl> & <int>\\\\\n",
       "\\hline\n",
       "\t1 & http://mashable.com/2013/01/07/amazon-instant-video-browser/   & 731 & 12 &  219 & 0.6635945 & 1 & 0.8153846 &  4 &  2 &  1 & ⋯ & 0.10000000 & 0.7 & -0.3500000 & -0.600 & -0.2000000 & 0.5000000 & -0.1875000 & 0.00000000 & 0.1875000 &  593\\\\\n",
       "\t2 & http://mashable.com/2013/01/07/ap-samsung-sponsored-tweets/    & 731 &  9 &  255 & 0.6047431 & 1 & 0.7919463 &  3 &  1 &  1 & ⋯ & 0.03333333 & 0.7 & -0.1187500 & -0.125 & -0.1000000 & 0.0000000 &  0.0000000 & 0.50000000 & 0.0000000 &  711\\\\\n",
       "\t3 & http://mashable.com/2013/01/07/apple-40-billion-app-downloads/ & 731 &  9 &  211 & 0.5751295 & 1 & 0.6638655 &  3 &  1 &  1 & ⋯ & 0.10000000 & 1.0 & -0.4666667 & -0.800 & -0.1333333 & 0.0000000 &  0.0000000 & 0.50000000 & 0.0000000 & 1500\\\\\n",
       "\t4 & http://mashable.com/2013/01/07/astronaut-notre-dame-bcs/       & 731 &  9 &  531 & 0.5037879 & 1 & 0.6656347 &  9 &  0 &  1 & ⋯ & 0.13636364 & 0.8 & -0.3696970 & -0.600 & -0.1666667 & 0.0000000 &  0.0000000 & 0.50000000 & 0.0000000 & 1200\\\\\n",
       "\t5 & http://mashable.com/2013/01/07/att-u-verse-apps/               & 731 & 13 & 1072 & 0.4156456 & 1 & 0.5408895 & 19 & 19 & 20 & ⋯ & 0.03333333 & 1.0 & -0.2201923 & -0.500 & -0.0500000 & 0.4545455 &  0.1363636 & 0.04545455 & 0.1363636 &  505\\\\\n",
       "\t6 & http://mashable.com/2013/01/07/beewi-smart-toys/               & 731 & 10 &  370 & 0.5598886 & 1 & 0.6981982 &  2 &  2 &  0 & ⋯ & 0.13636364 & 0.6 & -0.1950000 & -0.400 & -0.1000000 & 0.6428571 &  0.2142857 & 0.14285714 & 0.2142857 &  855\\\\\n",
       "\\end{tabular}\n"
      ],
      "text/markdown": [
       "\n",
       "A data.frame: 6 × 61\n",
       "\n",
       "| <!--/--> | url &lt;chr&gt; | timedelta &lt;dbl&gt; | n_tokens_title &lt;dbl&gt; | n_tokens_content &lt;dbl&gt; | n_unique_tokens &lt;dbl&gt; | n_non_stop_words &lt;dbl&gt; | n_non_stop_unique_tokens &lt;dbl&gt; | num_hrefs &lt;dbl&gt; | num_self_hrefs &lt;dbl&gt; | num_imgs &lt;dbl&gt; | ⋯ ⋯ | min_positive_polarity &lt;dbl&gt; | max_positive_polarity &lt;dbl&gt; | avg_negative_polarity &lt;dbl&gt; | min_negative_polarity &lt;dbl&gt; | max_negative_polarity &lt;dbl&gt; | title_subjectivity &lt;dbl&gt; | title_sentiment_polarity &lt;dbl&gt; | abs_title_subjectivity &lt;dbl&gt; | abs_title_sentiment_polarity &lt;dbl&gt; | shares &lt;int&gt; |\n",
       "|---|---|---|---|---|---|---|---|---|---|---|---|---|---|---|---|---|---|---|---|---|---|\n",
       "| 1 | http://mashable.com/2013/01/07/amazon-instant-video-browser/   | 731 | 12 |  219 | 0.6635945 | 1 | 0.8153846 |  4 |  2 |  1 | ⋯ | 0.10000000 | 0.7 | -0.3500000 | -0.600 | -0.2000000 | 0.5000000 | -0.1875000 | 0.00000000 | 0.1875000 |  593 |\n",
       "| 2 | http://mashable.com/2013/01/07/ap-samsung-sponsored-tweets/    | 731 |  9 |  255 | 0.6047431 | 1 | 0.7919463 |  3 |  1 |  1 | ⋯ | 0.03333333 | 0.7 | -0.1187500 | -0.125 | -0.1000000 | 0.0000000 |  0.0000000 | 0.50000000 | 0.0000000 |  711 |\n",
       "| 3 | http://mashable.com/2013/01/07/apple-40-billion-app-downloads/ | 731 |  9 |  211 | 0.5751295 | 1 | 0.6638655 |  3 |  1 |  1 | ⋯ | 0.10000000 | 1.0 | -0.4666667 | -0.800 | -0.1333333 | 0.0000000 |  0.0000000 | 0.50000000 | 0.0000000 | 1500 |\n",
       "| 4 | http://mashable.com/2013/01/07/astronaut-notre-dame-bcs/       | 731 |  9 |  531 | 0.5037879 | 1 | 0.6656347 |  9 |  0 |  1 | ⋯ | 0.13636364 | 0.8 | -0.3696970 | -0.600 | -0.1666667 | 0.0000000 |  0.0000000 | 0.50000000 | 0.0000000 | 1200 |\n",
       "| 5 | http://mashable.com/2013/01/07/att-u-verse-apps/               | 731 | 13 | 1072 | 0.4156456 | 1 | 0.5408895 | 19 | 19 | 20 | ⋯ | 0.03333333 | 1.0 | -0.2201923 | -0.500 | -0.0500000 | 0.4545455 |  0.1363636 | 0.04545455 | 0.1363636 |  505 |\n",
       "| 6 | http://mashable.com/2013/01/07/beewi-smart-toys/               | 731 | 10 |  370 | 0.5598886 | 1 | 0.6981982 |  2 |  2 |  0 | ⋯ | 0.13636364 | 0.6 | -0.1950000 | -0.400 | -0.1000000 | 0.6428571 |  0.2142857 | 0.14285714 | 0.2142857 |  855 |\n",
       "\n"
      ],
      "text/plain": [
       "  url                                                            timedelta\n",
       "1 http://mashable.com/2013/01/07/amazon-instant-video-browser/   731      \n",
       "2 http://mashable.com/2013/01/07/ap-samsung-sponsored-tweets/    731      \n",
       "3 http://mashable.com/2013/01/07/apple-40-billion-app-downloads/ 731      \n",
       "4 http://mashable.com/2013/01/07/astronaut-notre-dame-bcs/       731      \n",
       "5 http://mashable.com/2013/01/07/att-u-verse-apps/               731      \n",
       "6 http://mashable.com/2013/01/07/beewi-smart-toys/               731      \n",
       "  n_tokens_title n_tokens_content n_unique_tokens n_non_stop_words\n",
       "1 12              219             0.6635945       1               \n",
       "2  9              255             0.6047431       1               \n",
       "3  9              211             0.5751295       1               \n",
       "4  9              531             0.5037879       1               \n",
       "5 13             1072             0.4156456       1               \n",
       "6 10              370             0.5598886       1               \n",
       "  n_non_stop_unique_tokens num_hrefs num_self_hrefs num_imgs ⋯\n",
       "1 0.8153846                 4         2              1       ⋯\n",
       "2 0.7919463                 3         1              1       ⋯\n",
       "3 0.6638655                 3         1              1       ⋯\n",
       "4 0.6656347                 9         0              1       ⋯\n",
       "5 0.5408895                19        19             20       ⋯\n",
       "6 0.6981982                 2         2              0       ⋯\n",
       "  min_positive_polarity max_positive_polarity avg_negative_polarity\n",
       "1 0.10000000            0.7                   -0.3500000           \n",
       "2 0.03333333            0.7                   -0.1187500           \n",
       "3 0.10000000            1.0                   -0.4666667           \n",
       "4 0.13636364            0.8                   -0.3696970           \n",
       "5 0.03333333            1.0                   -0.2201923           \n",
       "6 0.13636364            0.6                   -0.1950000           \n",
       "  min_negative_polarity max_negative_polarity title_subjectivity\n",
       "1 -0.600                -0.2000000            0.5000000         \n",
       "2 -0.125                -0.1000000            0.0000000         \n",
       "3 -0.800                -0.1333333            0.0000000         \n",
       "4 -0.600                -0.1666667            0.0000000         \n",
       "5 -0.500                -0.0500000            0.4545455         \n",
       "6 -0.400                -0.1000000            0.6428571         \n",
       "  title_sentiment_polarity abs_title_subjectivity abs_title_sentiment_polarity\n",
       "1 -0.1875000               0.00000000             0.1875000                   \n",
       "2  0.0000000               0.50000000             0.0000000                   \n",
       "3  0.0000000               0.50000000             0.0000000                   \n",
       "4  0.0000000               0.50000000             0.0000000                   \n",
       "5  0.1363636               0.04545455             0.1363636                   \n",
       "6  0.2142857               0.14285714             0.2142857                   \n",
       "  shares\n",
       "1  593  \n",
       "2  711  \n",
       "3 1500  \n",
       "4 1200  \n",
       "5  505  \n",
       "6  855  "
      ]
     },
     "metadata": {},
     "output_type": "display_data"
    }
   ],
   "source": [
    "# Here is brief preview of the dataset:\n",
    "ONP <- read.csv(\"OnlineNewsPopularity.csv\", header = TRUE, sep = \",\")\n",
    "head(ONP)"
   ]
  },
  {
   "cell_type": "markdown",
   "id": "e0d6b3a5-c59b-4e88-b5cf-93a55a77fd11",
   "metadata": {},
   "source": [
    "# 2. Question"
   ]
  },
  {
   "cell_type": "markdown",
   "id": "47bac042-0092-47a7-a428-432b28b64a25",
   "metadata": {},
   "source": [
    "* Among the factors of `number of words in title`, `number of words in content`, `number of images`, `data channel type`, `day in weekdays`, `global subjectivity`, `global sentiment polarity` and the `rate of positive words`, which ones are strongly associated with the number of shares of the article, and what variables can build up the best model to predict the number of shares?"
   ]
  }
 ],
 "metadata": {
  "kernelspec": {
   "display_name": "R",
   "language": "R",
   "name": "ir"
  },
  "language_info": {
   "codemirror_mode": "r",
   "file_extension": ".r",
   "mimetype": "text/x-r-source",
   "name": "R",
   "pygments_lexer": "r",
   "version": "4.2.3"
  }
 },
 "nbformat": 4,
 "nbformat_minor": 5
}
